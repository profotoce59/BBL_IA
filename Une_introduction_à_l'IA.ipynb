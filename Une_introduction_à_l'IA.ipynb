{
  "nbformat": 4,
  "nbformat_minor": 0,
  "metadata": {
    "colab": {
      "provenance": [],
      "include_colab_link": true
    },
    "kernelspec": {
      "name": "python3",
      "display_name": "Python 3"
    }
  },
  "cells": [
    {
      "cell_type": "markdown",
      "metadata": {
        "id": "view-in-github",
        "colab_type": "text"
      },
      "source": [
        "<a href=\"https://colab.research.google.com/github/profotoce59/BBL_IA/blob/main/Une_introduction_%C3%A0_l'IA.ipynb\" target=\"_parent\"><img src=\"https://colab.research.google.com/assets/colab-badge.svg\" alt=\"Open In Colab\"/></a>"
      ]
    },
    {
      "cell_type": "code",
      "source": [
        "![](https://github.com/BBL_intro_IA/)"
      ],
      "metadata": {
        "id": "NkAKhHURCvyI"
      },
      "execution_count": null,
      "outputs": []
    },
    {
      "cell_type": "markdown",
      "metadata": {
        "id": "2m352Fwz6U4i"
      },
      "source": [
        "## Comprendre le principe de filtre\n",
        "\n",
        "Avant de nous attaquer au deep learning il est important de comprendre ce qu'on fait en terme de traitement d'image.\n",
        "On va notamment s'intéresser dans cette première partie à la notion de noyau appliqué sur une image."
      ]
    },
    {
      "cell_type": "markdown",
      "metadata": {
        "id": "wDIrDdQx6_n9"
      },
      "source": [
        "## Une image est une information\n",
        "Une image est un condensé de données, que l'on appel les pixels."
      ]
    },
    {
      "cell_type": "code",
      "metadata": {
        "id": "QpYk1JcB6PiG"
      },
      "source": [
        "import cv2\n",
        "import numpy as np\n",
        "import requests\n",
        "import matplotlib.pyplot as plt\n",
        "import matplotlib.image as mpimg\n",
        "import sys\n",
        "import datetime\n",
        "from tensorflow import keras\n",
        "from tensorflow.keras.models import Model\n",
        "import tensorflow as tf\n",
        "\n",
        "%pylab inline\n",
        "\n",
        "url_apple = r'https://github.com/profotoce59/BBL_IA/raw/main/image/Pomme1.png?raw=true'\n",
        "resp = requests.get(url_apple, stream=True).raw\n",
        "image_array_apple = np.asarray(bytearray(resp.read()), dtype=\"uint8\")\n",
        "image_apple = cv2.imdecode(image_array_apple, cv2.IMREAD_COLOR)\n",
        "plt.axis('off')\n",
        "plt.imshow(cv2.cvtColor(image_apple, cv2.COLOR_BGR2RGB))\n",
        "plt.show()\n",
        "\n",
        "url_banana = r'https://github.com/profotoce59/BBL_IA/raw/main/image/Banane1.png?raw=true'\n",
        "resp = requests.get(url_banana, stream=True).raw\n",
        "image_array_banana = np.asarray(bytearray(resp.read()), dtype=\"uint8\")\n",
        "\n",
        "image_banana= cv2.imdecode(image_array_banana, cv2.IMREAD_COLOR)\n",
        "plt.axis('off')\n",
        "plt.imshow(cv2.cvtColor(image_banana, cv2.COLOR_BGR2RGB))\n",
        "plt.show()"
      ],
      "execution_count": null,
      "outputs": []
    },
    {
      "cell_type": "markdown",
      "source": [
        "## On va diminuer l'information pour la donner à notre modèle mettre l'image en bit (noir ou blanc)"
      ],
      "metadata": {
        "id": "wV1c57e4ETPy"
      }
    },
    {
      "cell_type": "code",
      "metadata": {
        "id": "soplmmvW_Ysq"
      },
      "source": [
        "#Convertir en noir et blanc\n"
      ],
      "execution_count": null,
      "outputs": []
    },
    {
      "cell_type": "code",
      "metadata": {
        "id": "sus9FuhPOpH-"
      },
      "source": [
        "#Fonctionnement d'une convolution"
      ],
      "execution_count": null,
      "outputs": []
    },
    {
      "cell_type": "code",
      "metadata": {
        "id": "O7Z8A_Bn-ZZB"
      },
      "source": [
        "#définir un filtre qui va garder les trait verticaux\n"
      ],
      "execution_count": null,
      "outputs": []
    },
    {
      "cell_type": "code",
      "metadata": {
        "id": "OfdPD59qP1R8"
      },
      "source": [
        "#définir un filtre qui va garder les trait horizontaux"
      ],
      "execution_count": null,
      "outputs": []
    },
    {
      "cell_type": "markdown",
      "metadata": {
        "id": "uJCgQgxMb2lE"
      },
      "source": [
        "## Les réseaux de neurones convolutionnels CNN\n",
        "\n",
        "On peut donc consdiérer un noyau comme un filtre appliqué à l'image pour en tirer des features. Dans un réseau de neurones convolutionnels c'est le réseau qui va trouver lui même les filtres a appliquer aux images.\n",
        "\n",
        "J'ai construis le dataset moi même en utilisant un dataset kaggle : https://www.kaggle.com/datasets/sriramr/apples-bananas-oranges?resource=download"
      ]
    },
    {
      "cell_type": "code",
      "metadata": {
        "id": "BxflDavCbzgI"
      },
      "source": [
        "#Import dataset\n",
        "import pathlib\n",
        "import os\n",
        "import zipfile\n",
        "zip_url = \"https://github.com/profotoce59/BBL_IA/raw/main/original_data_set.zip\"\n",
        "zip_path = tf.keras.utils.get_file(\"original_data_set.zip\", zip_url)\n",
        "\n",
        "# 📂 Décompression dans le répertoire \"dataset\"\n",
        "with zipfile.ZipFile(zip_path, 'r') as zip_ref:\n",
        "    zip_ref.extractall(\"dataset\")\n",
        "\n",
        "data_dir = pathlib.Path('dataset')"
      ],
      "execution_count": null,
      "outputs": []
    },
    {
      "cell_type": "code",
      "metadata": {
        "id": "kUE3n8_olGwq"
      },
      "source": [
        "#afficher le nombre d'image de notre dataset"
      ],
      "execution_count": null,
      "outputs": []
    },
    {
      "cell_type": "code",
      "source": [
        "#définitions du format de nos images en entrée :"
      ],
      "metadata": {
        "id": "Ics3nfa3uLcA"
      },
      "execution_count": 2,
      "outputs": []
    },
    {
      "cell_type": "code",
      "metadata": {
        "id": "bI-zwYp-koHL"
      },
      "source": [
        "import numpy as np\n",
        "import collections\n",
        "#définition de nos données d'entrainement et de validation\n"
      ],
      "execution_count": null,
      "outputs": []
    },
    {
      "cell_type": "code",
      "metadata": {
        "id": "l2aSfXtToyru"
      },
      "source": [
        "#voici un exemple d'entrée"
      ],
      "execution_count": null,
      "outputs": []
    },
    {
      "cell_type": "code",
      "metadata": {
        "id": "iETojt-6qACe"
      },
      "source": [
        "from tensorflow.keras import layers\n",
        "from tensorflow.keras.callbacks import TensorBoard\n",
        "#définition de notre réseau de neurones\n"
      ],
      "execution_count": null,
      "outputs": []
    },
    {
      "cell_type": "code",
      "metadata": {
        "id": "frjQUxl3GL3d"
      },
      "source": [
        "#résumé de nos couches de neurones"
      ],
      "execution_count": null,
      "outputs": []
    },
    {
      "cell_type": "markdown",
      "source": [
        "## Charge une image et teste la\n"
      ],
      "metadata": {
        "id": "vDGBrdQ5vAu6"
      }
    },
    {
      "cell_type": "code",
      "metadata": {
        "id": "XTEMBqJoaVSZ"
      },
      "source": [
        "from google.colab import files\n",
        "# Charger une image depuis ton ordi\n",
        "file_to_predict = files.upload()\n",
        "\n",
        "for file_ in file_to_predict:\n",
        "    # Charger l'image avec OpenCV (en BGR)\n",
        "    image_to_predict = cv2.imread(file_, cv2.IMREAD_COLOR)\n",
        "\n",
        "    # Convertir en RGB (car OpenCV charge en BGR)\n",
        "    image_to_predict_rgb = cv2.cvtColor(image_to_predict, cv2.COLOR_BGR2RGB)\n",
        "\n",
        "    # Afficher l'image\n",
        "    plt.imshow(image_to_predict_rgb)\n",
        "    plt.axis('off')\n",
        "    plt.title(\"Image chargée\")\n",
        "    plt.show()\n",
        "\n",
        "    # Redimensionner à la bonne taille et ajouter dimension batch\n",
        "    img_to_predict = cv2.resize(image_to_predict_rgb, (200, 200))\n",
        "    img_to_predict = np.expand_dims(img_to_predict, axis=0)  # PAS de /255 ici\n",
        "\n",
        "    # Prédiction (le modèle a déjà Rescaling)\n",
        "    prediction = model.predict(img_to_predict)\n",
        "    predicted_class = np.argmax(prediction, axis=1)[0]\n",
        "\n",
        "    # Affichage du résultat\n",
        "    class_label = class_names[predicted_class]\n",
        "    print(f\"🍏 Prédiction : {class_label.upper()} ({prediction[0][predicted_class]*100:.1f}%)\")"
      ],
      "execution_count": null,
      "outputs": []
    },
    {
      "cell_type": "markdown",
      "metadata": {
        "id": "JQt-6rdKZPBb"
      },
      "source": [
        "#Comprendre ce qu'il y a dans les filtres au moment de l'exécution"
      ]
    },
    {
      "cell_type": "code",
      "metadata": {
        "id": "TFibX7yrB8jM"
      },
      "source": [
        "#display filters for apple\n",
        "import math\n",
        "\n",
        "def display_image_filtered(name_image, model, layer_name, image):\n",
        "    feature_map_1 = tf.keras.Model(inputs=model.layers[0].input,\n",
        "                                 outputs=model.get_layer(layer_name).output)\n",
        "\n",
        "    img = cv2.resize(image, (200, 200))\n",
        "    input_img = np.expand_dims(img, axis=0)\n",
        "\n",
        "    f = feature_map_1.predict(input_img)\n",
        "    dim = f.shape[3]\n",
        "\n",
        "    print(f'{layer_name} | Features Shape: {f.shape}')\n",
        "    print(f'Dimension {dim}')\n",
        "\n",
        "    fig = plt.figure(figsize=(20, 20))\n",
        "\n",
        "    output_dir = f'results_{name_image}'\n",
        "    os.makedirs(output_dir, exist_ok=True)\n",
        "\n",
        "    rows = math.ceil(math.sqrt(dim))\n",
        "    cols = math.ceil(dim / rows)\n",
        "\n",
        "    for i in range(dim):\n",
        "        ax = fig.add_subplot(rows, cols, i + 1)\n",
        "        ax.axis('off')\n",
        "        ax.imshow(f[0, :, :, i], cmap='viridis')\n",
        "\n",
        "        # Optionnel : sauvegarder chaque filtre\n",
        "        plt.imsave(f'{output_dir}/{name_image}_{layer_name}_{i}.jpg', f[0, :, :, i], cmap='viridis')\n",
        "\n",
        "    plt.tight_layout()\n",
        "    plt.show()\n",
        "\n",
        "\n",
        "num = 33\n",
        "# Affichage des noms des couches convolutionnelles et pooling\n",
        "conv_layers = [layer.name for layer in model.layers if 'conv2d' in layer.name]\n",
        "pool_layers = [layer.name for layer in model.layers if 'max_pooling2d' in layer.name]\n",
        "\n",
        "\n",
        "for name in ['apple', 'banana']:\n",
        "    image = image_apple if name == 'apple' else image_banana\n",
        "\n",
        "    # Afficher l'image d'origine\n",
        "    plt.axis('off')\n",
        "    plt.imshow(cv2.cvtColor(image, cv2.COLOR_BGR2RGB))\n",
        "    plt.title(f\"Image originale - {name.upper()}\")\n",
        "    plt.show()\n",
        "\n",
        "    print(f\"\\n🔍 Feature maps pour {name.upper()} :\\n\")\n",
        "\n",
        "    for i in range(len(conv_layers)):\n",
        "        print('-----------------------------------------------------')\n",
        "        print(f'🧠 {i+1}ère couche CONV : {conv_layers[i]}')\n",
        "        display_image_filtered(name, model, conv_layers[i], image)\n",
        "\n",
        "        if i < len(pool_layers):  # on évite de dépasser\n",
        "            print(f'💧 {i+1}ère couche POOLING : {pool_layers[i]}')\n",
        "            display_image_filtered(name, model, pool_layers[i], image)\n",
        "        print('-----------------------------------------------------')"
      ],
      "execution_count": null,
      "outputs": []
    },
    {
      "cell_type": "code",
      "metadata": {
        "id": "Uek6MmISpW0h",
        "colab": {
          "base_uri": "https://localhost:8080/",
          "height": 17
        },
        "outputId": "b738ab24-7ce2-4743-99c7-89b5a2cf296a"
      },
      "source": [
        "files.download(\"/content/results_apple.zip\")\n",
        "files.download(\"/content/results_banana.zip\")"
      ],
      "execution_count": null,
      "outputs": [
        {
          "output_type": "display_data",
          "data": {
            "application/javascript": [
              "\n",
              "    async function download(id, filename, size) {\n",
              "      if (!google.colab.kernel.accessAllowed) {\n",
              "        return;\n",
              "      }\n",
              "      const div = document.createElement('div');\n",
              "      const label = document.createElement('label');\n",
              "      label.textContent = `Downloading \"${filename}\": `;\n",
              "      div.appendChild(label);\n",
              "      const progress = document.createElement('progress');\n",
              "      progress.max = size;\n",
              "      div.appendChild(progress);\n",
              "      document.body.appendChild(div);\n",
              "\n",
              "      const buffers = [];\n",
              "      let downloaded = 0;\n",
              "\n",
              "      const channel = await google.colab.kernel.comms.open(id);\n",
              "      // Send a message to notify the kernel that we're ready.\n",
              "      channel.send({})\n",
              "\n",
              "      for await (const message of channel.messages) {\n",
              "        // Send a message to notify the kernel that we're ready.\n",
              "        channel.send({})\n",
              "        if (message.buffers) {\n",
              "          for (const buffer of message.buffers) {\n",
              "            buffers.push(buffer);\n",
              "            downloaded += buffer.byteLength;\n",
              "            progress.value = downloaded;\n",
              "          }\n",
              "        }\n",
              "      }\n",
              "      const blob = new Blob(buffers, {type: 'application/binary'});\n",
              "      const a = document.createElement('a');\n",
              "      a.href = window.URL.createObjectURL(blob);\n",
              "      a.download = filename;\n",
              "      div.appendChild(a);\n",
              "      a.click();\n",
              "      div.remove();\n",
              "    }\n",
              "  "
            ],
            "text/plain": [
              "<IPython.core.display.Javascript object>"
            ]
          },
          "metadata": {
            "tags": []
          }
        },
        {
          "output_type": "display_data",
          "data": {
            "application/javascript": [
              "download(\"download_642a179b-93ac-4983-9cd9-e27750c416af\", \"results_pikachu.zip\", 709518)"
            ],
            "text/plain": [
              "<IPython.core.display.Javascript object>"
            ]
          },
          "metadata": {
            "tags": []
          }
        },
        {
          "output_type": "display_data",
          "data": {
            "application/javascript": [
              "\n",
              "    async function download(id, filename, size) {\n",
              "      if (!google.colab.kernel.accessAllowed) {\n",
              "        return;\n",
              "      }\n",
              "      const div = document.createElement('div');\n",
              "      const label = document.createElement('label');\n",
              "      label.textContent = `Downloading \"${filename}\": `;\n",
              "      div.appendChild(label);\n",
              "      const progress = document.createElement('progress');\n",
              "      progress.max = size;\n",
              "      div.appendChild(progress);\n",
              "      document.body.appendChild(div);\n",
              "\n",
              "      const buffers = [];\n",
              "      let downloaded = 0;\n",
              "\n",
              "      const channel = await google.colab.kernel.comms.open(id);\n",
              "      // Send a message to notify the kernel that we're ready.\n",
              "      channel.send({})\n",
              "\n",
              "      for await (const message of channel.messages) {\n",
              "        // Send a message to notify the kernel that we're ready.\n",
              "        channel.send({})\n",
              "        if (message.buffers) {\n",
              "          for (const buffer of message.buffers) {\n",
              "            buffers.push(buffer);\n",
              "            downloaded += buffer.byteLength;\n",
              "            progress.value = downloaded;\n",
              "          }\n",
              "        }\n",
              "      }\n",
              "      const blob = new Blob(buffers, {type: 'application/binary'});\n",
              "      const a = document.createElement('a');\n",
              "      a.href = window.URL.createObjectURL(blob);\n",
              "      a.download = filename;\n",
              "      div.appendChild(a);\n",
              "      a.click();\n",
              "      div.remove();\n",
              "    }\n",
              "  "
            ],
            "text/plain": [
              "<IPython.core.display.Javascript object>"
            ]
          },
          "metadata": {
            "tags": []
          }
        },
        {
          "output_type": "display_data",
          "data": {
            "application/javascript": [
              "download(\"download_efaf3f00-59e8-4fd8-ae93-64dc26512dcb\", \"results_rondoudou.zip\", 758787)"
            ],
            "text/plain": [
              "<IPython.core.display.Javascript object>"
            ]
          },
          "metadata": {
            "tags": []
          }
        }
      ]
    }
  ]
}